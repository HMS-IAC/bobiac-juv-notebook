{
 "cells": [
  {
   "cell_type": "code",
   "execution_count": null,
   "id": "9f33553a",
   "metadata": {
    "jupyter": {
     "source_hidden": true
    }
   },
   "outputs": [],
   "source": [
    "# /// script\n",
    "# requires-python = \">=3.10\"\n",
    "# ///\n",
    "\n",
    "# Standard library imports (no need to declare in dependencies)\n",
    "import random\n",
    "import statistics as stats\n",
    "from datetime import date"
   ]
  },
  {
   "cell_type": "markdown",
   "id": "16a60488",
   "metadata": {},
   "source": [
    "# *Intro to Python II – Boston Bioimage Analysis Course*\n",
    "\n",
    "Welcome to your next step in Python!  \n",
    "This notebook is written **like a small interactive book**: you will read, explore, and _do_.\n",
    "\n",
    "> **Who is this for?**  \n",
    "> Anyone who has launched Jupyter once (e.g., after *Intro to Python I*) and wants to move from “I can run cells” to **“I can write programs.”**\n",
    "\n",
    "> **Why Python?**  \n",
    "> * Readability first – its syntax looks like pseudocode.  \n",
    "> * A giant ecosystem – from data science (`pandas`, `scipy`) to machine learning (`scikit-learn`, `pytorch`, `tensorflow`) to hardware (`pymmcore`).  \n",
    "> * Batteries included – the standard library gives you file I/O, HTTP clients, math, testing, and more.\n",
    "\n",
    "You will learn **core building blocks**:\n",
    "\n",
    "| Chapter | Concept | Why it matters |\n",
    "|---------|---------|----------------|\n",
    "| 1 | Variables | Store and label information so programs remember things |\n",
    "| 2 | Functions | Package logic into reusable, testable pieces |\n",
    "| 3 | Control Flow with `for` | Repeat work without copy‑pasting |\n",
    "| 4 | Control Flow with `if`/`else` | Make decisions and branch logic |\n",
    "| 5 | Structural Pattern Matching | Write expressive, declarative dispatch code |\n",
    "| 6 | Errors & Exceptions | Build programs that fail _gracefully_ |\n",
    "| 7 | Imports & Modules | Re‑use the world’s code (and your own) |\n",
    "\n",
    "Each chapter has:\n",
    "\n",
    "1. **Narrative explanation** – read this like a textbook.\n",
    "2. **Live demo** – run and play.\n",
    "3. **Exercise** – _your turn_ ✅\n"
   ]
  },
  {
   "cell_type": "markdown",
   "id": "3dc95a1a",
   "metadata": {},
   "source": [
    "## 1. Variables ‑ The nouns of code"
   ]
  },
  {
   "cell_type": "markdown",
   "id": "8a24d030",
   "metadata": {},
   "source": [
    "**Concept.**  \n",
    "A *variable* is a labeled box that can hold any Python object.  \n",
    "Because Python is **dynamically typed**, the label does _not_ declare a type – the object itself knows its type.\n",
    "\n",
    "```mermaid\n",
    "flowchart LR\n",
    "    A[\"label: `price`\"] --> B[\"object: 19.99 (float)\"]\n",
    "```\n",
    "\n",
    "### Naming matters  \n",
    "* Use lowercase_with_underscores (`snake_case`).  \n",
    "* Be descriptive: `temperature_c` > `t`. Code is read by humans far more than by machines.\n",
    "\n",
    "### Mutability & Identity  \n",
    "Variables can be rebound:\n",
    "\n",
    "```python\n",
    "price = 19.99\n",
    "price = \"expensive\"  # ↓ the label now points elsewhere\n",
    "```\n",
    "\n",
    "But some objects themselves can change (lists) – we call this **mutability**.  \n"
   ]
  },
  {
   "cell_type": "code",
   "execution_count": null,
   "id": "7d3b4937",
   "metadata": {},
   "outputs": [],
   "source": [
    "item = 'Coffee'\n",
    "price = 2.5\n",
    "print(f'1 cup of {item} costs ${price}')\n",
    "price *= 3  # inflation! 💸\n",
    "print(f'New price: ${price}')"
   ]
  },
  {
   "cell_type": "markdown",
   "id": "6b651854",
   "metadata": {},
   "source": [
    "### ✍️ Exercise\n",
    "Create two variables:\n",
    "\n",
    "* `first_name` (your name)  \n",
    "* `birth_year` (int)\n",
    "\n",
    "Then print: “**Alice was born in 1990 and is 35 years old.**”  \n",
    "\n",
    "Hint: Use an f‑string and `2025` as the current year."
   ]
  },
  {
   "cell_type": "code",
   "execution_count": null,
   "id": "7505d7e6",
   "metadata": {},
   "outputs": [],
   "source": [
    "first_name = 'Alice'\n",
    "birth_year = 1990\n",
    "age = 2025 - birth_year\n",
    "print(f'{first_name} was born in {birth_year} and is {age} years old.')"
   ]
  },
  {
   "cell_type": "markdown",
   "id": "4edcb9fa",
   "metadata": {},
   "source": [
    "## 2. Functions ‑ Reusable verbs"
   ]
  },
  {
   "cell_type": "markdown",
   "id": "4326bb68",
   "metadata": {},
   "source": [
    "**Concept.**  \n",
    "A *function* groups statements, giving them a **name**, **inputs** (parameters), and **output** (return value).\n",
    "\n",
    "Why you care:\n",
    "\n",
    "* **Reuse** – write once, call everywhere.  \n",
    "* **Testing** – functions are the unit of testability.  \n",
    "* **Abstraction** – hide complexity behind a simple interface.\n",
    "\n",
    "```python\n",
    "def fahrenheit_to_celsius(f):\n",
    "    \"\"\"Convert °F to °C.\"\"\"\n",
    "    return (f - 32) * 5/9\n",
    "```\n",
    "\n",
    ">*Docstrings* become the function’s documentation (try running `help(fahrenheit_to_celsius)` to see it)."
   ]
  },
  {
   "cell_type": "code",
   "execution_count": null,
   "id": "c2cb5b96",
   "metadata": {},
   "outputs": [],
   "source": [
    "def greet(name=\"world\"):\n",
    "    print(f\"Hello, {name}!\")\n",
    "\n",
    "greet()\n",
    "greet('Ada')"
   ]
  },
  {
   "cell_type": "markdown",
   "id": "98f21d56",
   "metadata": {},
   "source": [
    "### ✍️ Exercise\n",
    "Write a function `bmi(weight_kg, height_m)` that returns the Body‑Mass Index, *rounded to 1 decimal*.  \n",
    "Then call it with **(70 kg, 1.75 m)**."
   ]
  },
  {
   "cell_type": "code",
   "execution_count": null,
   "id": "157f259a",
   "metadata": {},
   "outputs": [],
   "source": [
    "def bmi(weight_kg, height_m):\n",
    "    return round(weight_kg / (height_m ** 2), 1)\n",
    "\n",
    "print(bmi(70, 1.75))"
   ]
  },
  {
   "cell_type": "markdown",
   "id": "992eb6f4",
   "metadata": {},
   "source": [
    "## 3. For Loops ‑ Repetition made easy"
   ]
  },
  {
   "cell_type": "markdown",
   "id": "96eccf47",
   "metadata": {},
   "source": [
    "**Concept.**  \n",
    "`for` loops iterate over *iterables*: lists, strings, ranges, files, generators…\n",
    "\n",
    "Why loops matter:\n",
    "\n",
    "* Automate repetition (DRY principle).  \n",
    "* Enable algorithms like searching and aggregation.\n",
    "\n",
    "Pythonic looping embraces **iteration** over indices:\n",
    "\n",
    "```python\n",
    "for char in \"python\":\n",
    "    print(char)\n",
    "```"
   ]
  },
  {
   "cell_type": "code",
   "execution_count": null,
   "id": "5c01ccc2",
   "metadata": {},
   "outputs": [],
   "source": [
    "total = 0\n",
    "for n in range(1, 11):\n",
    "    total += n\n",
    "print('1…10 sum =', total)"
   ]
  },
  {
   "cell_type": "markdown",
   "id": "b14e5e74",
   "metadata": {},
   "source": [
    "### ✍️ Exercise\n",
    "Use a `for` loop to build a list `squares` containing the squares of numbers 0–9."
   ]
  },
  {
   "cell_type": "code",
   "execution_count": null,
   "id": "7c2b5459",
   "metadata": {},
   "outputs": [],
   "source": [
    "squares = [n**2 for n in range(10)]\n",
    "print(squares)"
   ]
  },
  {
   "cell_type": "markdown",
   "id": "e8a9de93",
   "metadata": {},
   "source": [
    "## 4. If/Else ‑ Decisions, decisions…"
   ]
  },
  {
   "cell_type": "markdown",
   "id": "4a904daf",
   "metadata": {},
   "source": [
    "**Concept.**  \n",
    "Control flow statements run code only when conditions hold.\n",
    "\n",
    "* `if` – primary gate  \n",
    "* `elif` – add more gates  \n",
    "* `else` – fallback\n",
    "\n",
    "### Truthiness  \n",
    "Any object can be tested for truth. Empty containers are `False`, non‑zero numbers are `True`.\n",
    "\n",
    "Real‑world use: Input validation, branching algorithms, configuration handling."
   ]
  },
  {
   "cell_type": "code",
   "execution_count": null,
   "id": "3fd4882a",
   "metadata": {},
   "outputs": [],
   "source": [
    "score = 87\n",
    "if score >= 90:\n",
    "    grade = 'A'\n",
    "elif score >= 80:\n",
    "    grade = 'B'\n",
    "else:\n",
    "    grade = 'C or below'\n",
    "print('Grade =', grade)"
   ]
  },
  {
   "cell_type": "markdown",
   "id": "470f056b",
   "metadata": {},
   "source": [
    "### ✍️ Exercise\n",
    "Write a function `sign(x)` that returns \"positive\", \"negative\", or \"zero\"."
   ]
  },
  {
   "cell_type": "code",
   "execution_count": null,
   "id": "3f94b954",
   "metadata": {},
   "outputs": [],
   "source": [
    "def sign(x):\n",
    "    if x > 0:\n",
    "        return 'positive'\n",
    "    elif x < 0:\n",
    "        return 'negative'\n",
    "    else:\n",
    "        return 'zero'\n",
    "\n",
    "print(sign(-7))"
   ]
  },
  {
   "cell_type": "markdown",
   "id": "bb23ed3b",
   "metadata": {},
   "source": [
    "## 5. Match–Case ‑ Pattern power"
   ]
  },
  {
   "cell_type": "markdown",
   "id": "10e0fbbb",
   "metadata": {},
   "source": [
    "**Concept.**  \n",
    "`match`/`case` (Python ≥ 3.10) brings *structural pattern matching*.\n",
    "\n",
    "Compared to long `if`/`elif` chains, matching:\n",
    "\n",
    "* Is more declarative – you describe the *shape* of data.  \n",
    "* Supports **bindings** and **guards** for complex patterns.\n",
    "\n",
    "```python\n",
    "def http_status(code):\n",
    "    match code:\n",
    "        case 200:\n",
    "            return 'OK'\n",
    "        case 400 | 404:\n",
    "            return 'Client error'\n",
    "        case 500:\n",
    "            return 'Server error'\n",
    "        case _:\n",
    "            return 'Unknown'\n",
    "```"
   ]
  },
  {
   "cell_type": "code",
   "execution_count": null,
   "id": "1018bfdc",
   "metadata": {},
   "outputs": [],
   "source": [
    "def weekday(n):\n",
    "    match n:\n",
    "        case 1:\n",
    "            return 'Mon'\n",
    "        case 2:\n",
    "            return 'Tue'\n",
    "        case 3:\n",
    "            return 'Wed'\n",
    "        case 4:\n",
    "            return 'Thu'\n",
    "        case 5:\n",
    "            return 'Fri'\n",
    "        case 6 | 7:\n",
    "            return 'Weekend'\n",
    "        case _:\n",
    "            return '??'\n",
    "print([weekday(i) for i in range(0, 9)])"
   ]
  },
  {
   "cell_type": "markdown",
   "id": "72003c83",
   "metadata": {},
   "source": [
    "### ✍️ Exercise\n",
    "Implement a tiny calculator:\n",
    "\n",
    "`calc(op, a, b)` where `op` is one of `'+', '-', '*', '/'`.\n",
    "\n",
    "Use `match` to pick the operation."
   ]
  },
  {
   "cell_type": "code",
   "execution_count": null,
   "id": "d7f4b0f4",
   "metadata": {},
   "outputs": [],
   "source": [
    "def calc(op, a, b):\n",
    "    match op:\n",
    "        case '+':\n",
    "            return a + b\n",
    "        case '-':\n",
    "            return a - b\n",
    "        case '*':\n",
    "            return a * b\n",
    "        case '/':\n",
    "            return a / b\n",
    "        case _:\n",
    "            raise ValueError('Unknown operator')\n",
    "\n",
    "print(calc('*', 6, 7))"
   ]
  },
  {
   "cell_type": "markdown",
   "id": "5bab7e22",
   "metadata": {},
   "source": [
    "## 6. Try/Except ‑ Robust programs"
   ]
  },
  {
   "cell_type": "markdown",
   "id": "cf214673",
   "metadata": {},
   "source": [
    "**Concept.**  \n",
    "Exceptions are Python’s way to signal that **something went wrong** (I/O fails, bad data, etc.).\n",
    "\n",
    "Why use exceptions instead of returns?  \n",
    "* Separate *normal* path from *error* path – cleaner logic.  \n",
    "* Failure carries an **object** with rich info (`traceback`).  \n",
    "* Callers can choose to handle or propagate.\n",
    "\n",
    "Best practice: catch only what you can handle, let the rest bubble up."
   ]
  },
  {
   "cell_type": "code",
   "execution_count": null,
   "id": "866a23f8",
   "metadata": {},
   "outputs": [],
   "source": [
    "try:\n",
    "    int('abc')\n",
    "except ValueError as err:\n",
    "    print('Could not convert:', err)"
   ]
  },
  {
   "cell_type": "markdown",
   "id": "f70d7a40",
   "metadata": {},
   "source": [
    "### ✍️ Exercise\n",
    "Write `safe_divide(a, b)` that returns `a / b` *or* the string `'infinite'` if `b` is zero (catch `ZeroDivisionError`)."
   ]
  },
  {
   "cell_type": "code",
   "execution_count": null,
   "id": "3b40c23d",
   "metadata": {},
   "outputs": [],
   "source": [
    "def safe_divide(a, b):\n",
    "    try:\n",
    "        return a / b\n",
    "    except ZeroDivisionError:\n",
    "        return 'infinite'\n",
    "\n",
    "print(safe_divide(1, 0))"
   ]
  },
  {
   "cell_type": "markdown",
   "id": "fb083d34",
   "metadata": {},
   "source": [
    "## 7. Importing Modules ‑ Using the ecosystem"
   ]
  },
  {
   "cell_type": "markdown",
   "id": "9e4c7098",
   "metadata": {},
   "source": [
    "**Concept.**  \n",
    "`import` pulls in modules – files containing variables, functions, classes.\n",
    "\n",
    "Benefits:\n",
    "\n",
    "* **Don’t reinvent the wheel** – tap into 400k+ packages on PyPI.  \n",
    "* Organize **your** code into logical units.  \n",
    "* Share work across projects.\n",
    "\n",
    "Pro tip: use **virtual environments** (`venv`, `conda`) to isolate dependencies."
   ]
  },
  {
   "cell_type": "code",
   "execution_count": null,
   "id": "9883d639",
   "metadata": {},
   "outputs": [],
   "source": [
    "import random, statistics as stats\n",
    "nums = [random.randint(1, 6) for _ in range(1000)]\n",
    "print('Mean throw =', stats.mean(nums))"
   ]
  },
  {
   "cell_type": "markdown",
   "id": "ae7da393",
   "metadata": {},
   "source": [
    "### ✍️ Exercise\n",
    "Import `datetime` and print today’s date in ISO format."
   ]
  },
  {
   "cell_type": "code",
   "execution_count": null,
   "id": "4cd0c50f",
   "metadata": {},
   "outputs": [],
   "source": [
    "from datetime import date\n",
    "print(date.today().isoformat())"
   ]
  },
  {
   "cell_type": "markdown",
   "id": "9a342db2",
   "metadata": {},
   "source": [
    "---\n",
    "\n",
    "## Where to go next?\n",
    "\n",
    "* **Introduction to digital images** – `numpy`, `matplotlib`.  \n",
    "\n",
    "> “Programs must be written for people to read, and only incidentally for machines to execute.”  \n",
    "> — *Harold Abelson*  \n"
   ]
  }
 ],
 "metadata": {
  "kernelspec": {
   "display_name": "Python 3",
   "language": "python",
   "name": "python3"
  }
 },
 "nbformat": 4,
 "nbformat_minor": 5
}
